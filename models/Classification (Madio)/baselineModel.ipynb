{
 "cells": [
  {
   "cell_type": "markdown",
   "metadata": {},
   "source": [
    "# Baseline Model Classifier\n",
    "\n"
   ]
  },
  {
   "cell_type": "markdown",
   "metadata": {},
   "source": [
    "## Pre-steps"
   ]
  },
  {
   "cell_type": "markdown",
   "metadata": {},
   "source": [
    "### Importing packages"
   ]
  },
  {
   "cell_type": "code",
   "execution_count": 4,
   "metadata": {},
   "outputs": [],
   "source": [
    "# Data Processing\n",
    "import pandas as pd\n",
    "import numpy as np\n",
    "import seaborn as sns\n",
    "import matplotlib.pyplot as plt\n",
    "from preprocessing import *\n",
    "\n",
    "\n",
    "# model creation and evaluation\n",
    "from sklearn.model_selection import train_test_split\n",
    "from sklearn.dummy import DummyClassifier\n",
    "from sklearn.metrics import accuracy_score, classification_report, confusion_matrix, f1_score, precision_score, recall_score, ConfusionMatrixDisplay\n",
    "\n",
    "# pipeline/ encoder\n",
    "from sklearn.pipeline import Pipeline\n",
    "from sklearn.impute import SimpleImputer\n",
    "from sklearn.preprocessing import Normalizer, OneHotEncoder, StandardScaler, LabelEncoder, OrdinalEncoder\n",
    "from sklearn.compose import ColumnTransformer\n",
    "from sklearn.feature_selection import SelectPercentile, chi2\n",
    "from sklearn.tree import DecisionTreeClassifier\n",
    "\n",
    "import warnings\n",
    "warnings.filterwarnings('ignore')"
   ]
  },
  {
   "cell_type": "markdown",
   "metadata": {},
   "source": [
    "### Loading and preprocessing data"
   ]
  },
  {
   "cell_type": "markdown",
   "metadata": {},
   "source": [
    "#### Loading data"
   ]
  },
  {
   "cell_type": "code",
   "execution_count": 7,
   "metadata": {},
   "outputs": [
    {
     "data": {
      "text/html": [
       "<div>\n",
       "<style scoped>\n",
       "    .dataframe tbody tr th:only-of-type {\n",
       "        vertical-align: middle;\n",
       "    }\n",
       "\n",
       "    .dataframe tbody tr th {\n",
       "        vertical-align: top;\n",
       "    }\n",
       "\n",
       "    .dataframe thead th {\n",
       "        text-align: right;\n",
       "    }\n",
       "</style>\n",
       "<table border=\"1\" class=\"dataframe\">\n",
       "  <thead>\n",
       "    <tr style=\"text-align: right;\">\n",
       "      <th></th>\n",
       "      <th>Unnamed: 0</th>\n",
       "      <th>TRAFFIC_DATE</th>\n",
       "      <th>TRAINNUMBER</th>\n",
       "      <th>TRAINSERIE</th>\n",
       "      <th>TRAINSERIE_DIRECTION</th>\n",
       "      <th>STATION</th>\n",
       "      <th>ACTIVITYTYPE</th>\n",
       "      <th>PLAN_DATETIME</th>\n",
       "      <th>REALIZED_DATETIME</th>\n",
       "      <th>DELAY</th>\n",
       "      <th>...</th>\n",
       "      <th>MAX_DEPARTURE_TIME</th>\n",
       "      <th>PLAN_SIGNAL_SAFE_DELAY</th>\n",
       "      <th>REALIZED_SIGNAL_SAFE_DELAY</th>\n",
       "      <th>DAY_IN_WEEK</th>\n",
       "      <th>24-TIME</th>\n",
       "      <th>DALUREN</th>\n",
       "      <th>NEEDED_PLAN_TURNOVER_TIME</th>\n",
       "      <th>NEEDED_REALIZED_TURNOVER_TIME</th>\n",
       "      <th>DIFF_TURNOVER_TIME</th>\n",
       "      <th>DIFF_TURNOVER_TIME_CAT</th>\n",
       "    </tr>\n",
       "  </thead>\n",
       "  <tbody>\n",
       "    <tr>\n",
       "      <th>0</th>\n",
       "      <td>40</td>\n",
       "      <td>2023-03-06</td>\n",
       "      <td>519</td>\n",
       "      <td>500.0</td>\n",
       "      <td>O</td>\n",
       "      <td>Ut</td>\n",
       "      <td>V</td>\n",
       "      <td>2023-03-06 06:49:00+00:00</td>\n",
       "      <td>2023-03-06 06:49:38+00:00</td>\n",
       "      <td>38.0</td>\n",
       "      <td>...</td>\n",
       "      <td>2023-03-06 06:49:38+00:00</td>\n",
       "      <td>-53.0</td>\n",
       "      <td>-91.0</td>\n",
       "      <td>0</td>\n",
       "      <td>2024-05-15 06:49:00</td>\n",
       "      <td>False</td>\n",
       "      <td>442.0</td>\n",
       "      <td>468.0</td>\n",
       "      <td>-26.0</td>\n",
       "      <td>perfect</td>\n",
       "    </tr>\n",
       "    <tr>\n",
       "      <th>1</th>\n",
       "      <td>78</td>\n",
       "      <td>2023-03-06</td>\n",
       "      <td>523</td>\n",
       "      <td>500.0</td>\n",
       "      <td>O</td>\n",
       "      <td>Ut</td>\n",
       "      <td>V</td>\n",
       "      <td>2023-03-06 07:49:00+00:00</td>\n",
       "      <td>2023-03-06 07:48:58+00:00</td>\n",
       "      <td>-2.0</td>\n",
       "      <td>...</td>\n",
       "      <td>2023-03-06 07:48:58+00:00</td>\n",
       "      <td>-52.0</td>\n",
       "      <td>-50.0</td>\n",
       "      <td>0</td>\n",
       "      <td>2024-05-15 07:49:00</td>\n",
       "      <td>False</td>\n",
       "      <td>482.0</td>\n",
       "      <td>425.0</td>\n",
       "      <td>57.0</td>\n",
       "      <td>perfect</td>\n",
       "    </tr>\n",
       "    <tr>\n",
       "      <th>2</th>\n",
       "      <td>94</td>\n",
       "      <td>2023-03-06</td>\n",
       "      <td>524</td>\n",
       "      <td>500.0</td>\n",
       "      <td>E</td>\n",
       "      <td>Ut</td>\n",
       "      <td>V</td>\n",
       "      <td>2023-03-06 09:18:00+00:00</td>\n",
       "      <td>2023-03-06 09:18:04+00:00</td>\n",
       "      <td>4.0</td>\n",
       "      <td>...</td>\n",
       "      <td>2023-03-06 09:18:04+00:00</td>\n",
       "      <td>-53.0</td>\n",
       "      <td>-57.0</td>\n",
       "      <td>0</td>\n",
       "      <td>2024-05-15 09:18:00</td>\n",
       "      <td>True</td>\n",
       "      <td>476.0</td>\n",
       "      <td>440.0</td>\n",
       "      <td>36.0</td>\n",
       "      <td>perfect</td>\n",
       "    </tr>\n",
       "    <tr>\n",
       "      <th>3</th>\n",
       "      <td>106</td>\n",
       "      <td>2023-03-06</td>\n",
       "      <td>527</td>\n",
       "      <td>500.0</td>\n",
       "      <td>O</td>\n",
       "      <td>Ut</td>\n",
       "      <td>V</td>\n",
       "      <td>2023-03-06 08:49:00+00:00</td>\n",
       "      <td>2023-03-06 08:49:15+00:00</td>\n",
       "      <td>15.0</td>\n",
       "      <td>...</td>\n",
       "      <td>2023-03-06 08:49:15+00:00</td>\n",
       "      <td>-53.0</td>\n",
       "      <td>-68.0</td>\n",
       "      <td>0</td>\n",
       "      <td>2024-05-15 08:49:00</td>\n",
       "      <td>False</td>\n",
       "      <td>465.0</td>\n",
       "      <td>464.0</td>\n",
       "      <td>1.0</td>\n",
       "      <td>perfect</td>\n",
       "    </tr>\n",
       "    <tr>\n",
       "      <th>4</th>\n",
       "      <td>134</td>\n",
       "      <td>2023-03-06</td>\n",
       "      <td>531</td>\n",
       "      <td>500.0</td>\n",
       "      <td>O</td>\n",
       "      <td>Ut</td>\n",
       "      <td>V</td>\n",
       "      <td>2023-03-06 09:49:00+00:00</td>\n",
       "      <td>2023-03-06 09:49:11+00:00</td>\n",
       "      <td>11.0</td>\n",
       "      <td>...</td>\n",
       "      <td>2023-03-06 09:49:11+00:00</td>\n",
       "      <td>-53.0</td>\n",
       "      <td>-64.0</td>\n",
       "      <td>0</td>\n",
       "      <td>2024-05-15 09:49:00</td>\n",
       "      <td>True</td>\n",
       "      <td>469.0</td>\n",
       "      <td>522.0</td>\n",
       "      <td>-53.0</td>\n",
       "      <td>perfect</td>\n",
       "    </tr>\n",
       "  </tbody>\n",
       "</table>\n",
       "<p>5 rows × 30 columns</p>\n",
       "</div>"
      ],
      "text/plain": [
       "   Unnamed: 0 TRAFFIC_DATE  TRAINNUMBER  TRAINSERIE TRAINSERIE_DIRECTION  \\\n",
       "0          40   2023-03-06          519       500.0                    O   \n",
       "1          78   2023-03-06          523       500.0                    O   \n",
       "2          94   2023-03-06          524       500.0                    E   \n",
       "3         106   2023-03-06          527       500.0                    O   \n",
       "4         134   2023-03-06          531       500.0                    O   \n",
       "\n",
       "  STATION ACTIVITYTYPE              PLAN_DATETIME          REALIZED_DATETIME  \\\n",
       "0      Ut            V  2023-03-06 06:49:00+00:00  2023-03-06 06:49:38+00:00   \n",
       "1      Ut            V  2023-03-06 07:49:00+00:00  2023-03-06 07:48:58+00:00   \n",
       "2      Ut            V  2023-03-06 09:18:00+00:00  2023-03-06 09:18:04+00:00   \n",
       "3      Ut            V  2023-03-06 08:49:00+00:00  2023-03-06 08:49:15+00:00   \n",
       "4      Ut            V  2023-03-06 09:49:00+00:00  2023-03-06 09:49:11+00:00   \n",
       "\n",
       "   DELAY  ...         MAX_DEPARTURE_TIME  PLAN_SIGNAL_SAFE_DELAY  \\\n",
       "0   38.0  ...  2023-03-06 06:49:38+00:00                   -53.0   \n",
       "1   -2.0  ...  2023-03-06 07:48:58+00:00                   -52.0   \n",
       "2    4.0  ...  2023-03-06 09:18:04+00:00                   -53.0   \n",
       "3   15.0  ...  2023-03-06 08:49:15+00:00                   -53.0   \n",
       "4   11.0  ...  2023-03-06 09:49:11+00:00                   -53.0   \n",
       "\n",
       "   REALIZED_SIGNAL_SAFE_DELAY  DAY_IN_WEEK              24-TIME  DALUREN  \\\n",
       "0                       -91.0            0  2024-05-15 06:49:00    False   \n",
       "1                       -50.0            0  2024-05-15 07:49:00    False   \n",
       "2                       -57.0            0  2024-05-15 09:18:00     True   \n",
       "3                       -68.0            0  2024-05-15 08:49:00    False   \n",
       "4                       -64.0            0  2024-05-15 09:49:00     True   \n",
       "\n",
       "   NEEDED_PLAN_TURNOVER_TIME NEEDED_REALIZED_TURNOVER_TIME  \\\n",
       "0                      442.0                         468.0   \n",
       "1                      482.0                         425.0   \n",
       "2                      476.0                         440.0   \n",
       "3                      465.0                         464.0   \n",
       "4                      469.0                         522.0   \n",
       "\n",
       "   DIFF_TURNOVER_TIME  DIFF_TURNOVER_TIME_CAT  \n",
       "0               -26.0                 perfect  \n",
       "1                57.0                 perfect  \n",
       "2                36.0                 perfect  \n",
       "3                 1.0                 perfect  \n",
       "4               -53.0                 perfect  \n",
       "\n",
       "[5 rows x 30 columns]"
      ]
     },
     "execution_count": 7,
     "metadata": {},
     "output_type": "execute_result"
    }
   ],
   "source": [
    "df_complete = pd.read_csv('../data/final_large_dataset_complete_15-06-2024.csv', low_memory=False)\n",
    "df_0_900 = pd.read_csv('../data/final_large_dataset_0_900_15-06-2024.csv', low_memory=False)\n",
    "df_900_2000 = pd.read_csv('../data/final_large_dataset_900_2000_15-06-2024.csv', low_memory=False)\n",
    "df_2000_2500 = pd.read_csv('../data/final_large_dataset_2000_2500_15-06-2024.csv', low_memory=False)"
   ]
  },
  {
   "cell_type": "markdown",
   "metadata": {},
   "source": [
    "#### Encoding data"
   ]
  },
  {
   "cell_type": "code",
   "execution_count": 8,
   "metadata": {},
   "outputs": [],
   "source": [
    "# for minimal features use\n",
    "# numerical features\n",
    "numerical_minimal_features = ['NUMBER_CARRIAGES', \n",
    "          # 'NEEDED_PLAN_TURNOVER_TIME', \n",
    "          'NEEDED_REALIZED_TURNOVER_TIME'\n",
    "                              ]\n",
    "numeric_transformer = Pipeline(\n",
    "  steps=[(\"imputer\", SimpleImputer(strategy=\"median\")), (\"scaler\", StandardScaler())]\n",
    ")\n",
    "# nominal features\n",
    "nominal_minimal_features = ['DAY_IN_WEEK', 'TRAINSERIE','STATION', 'COMBINE', 'SPLIT', 'ROLLINGSTOCK_TYPE', 'DALUREN', 'DRIVER_CHANGE']\n",
    "nominal_transformer = Pipeline(\n",
    "  steps=[\n",
    "    (\"encoder\", OneHotEncoder(handle_unknown=\"ignore\")),\n",
    "    (\"selector\", SelectPercentile(chi2, percentile=50)),\n",
    "  ]\n",
    ")\n",
    "\n",
    "# preprocessing pipeline for encoding\n",
    "preprocessor = ColumnTransformer(\n",
    "  transformers=[\n",
    "    (\"numeric\", numeric_transformer, numerical_minimal_features),\n",
    "    (\"nominal\", nominal_transformer, nominal_minimal_features),\n",
    "  ]\n",
    ")\n",
    "\n"
   ]
  },
  {
   "cell_type": "markdown",
   "metadata": {},
   "source": [
    "### Feature selection"
   ]
  },
  {
   "cell_type": "code",
   "execution_count": 9,
   "metadata": {},
   "outputs": [],
   "source": [
    "# selecting features\n",
    "target_feature = ['DIFF_TURNOVER_TIME_CAT']\n",
    "\n",
    "final_numeric_features = ['NUMBER_CARRIAGES', 'PLAN_TURNOVER_TIME','HOUR_sin',\t'HOUR_cos', 'DAY_OF_WEEK_sin',\t'DAY_OF_WEEK_cos']\n",
    "\n",
    "final_nominal_features = ['TRAINSERIE','STATION', 'COMBINE', 'SPLIT', 'ROLLINGSTOCK_TYPE', 'DALUREN', 'DRIVER_CHANGE', ]"
   ]
  },
  {
   "cell_type": "markdown",
   "metadata": {},
   "source": [
    "### single decision tree function for results"
   ]
  },
  {
   "cell_type": "code",
   "execution_count": 10,
   "metadata": {},
   "outputs": [
    {
     "data": {
      "text/html": [
       "<div>\n",
       "<style scoped>\n",
       "    .dataframe tbody tr th:only-of-type {\n",
       "        vertical-align: middle;\n",
       "    }\n",
       "\n",
       "    .dataframe tbody tr th {\n",
       "        vertical-align: top;\n",
       "    }\n",
       "\n",
       "    .dataframe thead th {\n",
       "        text-align: right;\n",
       "    }\n",
       "</style>\n",
       "<table border=\"1\" class=\"dataframe\">\n",
       "  <thead>\n",
       "    <tr style=\"text-align: right;\">\n",
       "      <th></th>\n",
       "      <th>TRAINSERIE</th>\n",
       "      <th>STATION</th>\n",
       "      <th>COMBINE</th>\n",
       "      <th>SPLIT</th>\n",
       "      <th>ROLLINGSTOCK_TYPE</th>\n",
       "      <th>NUMBER_CARRIAGES</th>\n",
       "      <th>DRIVER_CHANGE</th>\n",
       "      <th>NEEDED_REALIZED_TURNOVER_TIME</th>\n",
       "      <th>DAY_IN_WEEK</th>\n",
       "      <th>DALUREN</th>\n",
       "    </tr>\n",
       "  </thead>\n",
       "  <tbody>\n",
       "    <tr>\n",
       "      <th>936</th>\n",
       "      <td>600.0</td>\n",
       "      <td>Ut</td>\n",
       "      <td>0</td>\n",
       "      <td>0</td>\n",
       "      <td>DDZ</td>\n",
       "      <td>4.0</td>\n",
       "      <td>1.0</td>\n",
       "      <td>509.0</td>\n",
       "      <td>4</td>\n",
       "      <td>True</td>\n",
       "    </tr>\n",
       "    <tr>\n",
       "      <th>1632</th>\n",
       "      <td>1600.0</td>\n",
       "      <td>Es</td>\n",
       "      <td>0</td>\n",
       "      <td>0</td>\n",
       "      <td>DDZ</td>\n",
       "      <td>4.0</td>\n",
       "      <td>1.0</td>\n",
       "      <td>1977.0</td>\n",
       "      <td>0</td>\n",
       "      <td>True</td>\n",
       "    </tr>\n",
       "    <tr>\n",
       "      <th>2048</th>\n",
       "      <td>3900.0</td>\n",
       "      <td>Hrl</td>\n",
       "      <td>0</td>\n",
       "      <td>0</td>\n",
       "      <td>VIRM</td>\n",
       "      <td>4.0</td>\n",
       "      <td>1.0</td>\n",
       "      <td>448.0</td>\n",
       "      <td>0</td>\n",
       "      <td>True</td>\n",
       "    </tr>\n",
       "    <tr>\n",
       "      <th>9944</th>\n",
       "      <td>2400.0</td>\n",
       "      <td>Ddr</td>\n",
       "      <td>0</td>\n",
       "      <td>0</td>\n",
       "      <td>VIRM</td>\n",
       "      <td>6.0</td>\n",
       "      <td>1.0</td>\n",
       "      <td>512.0</td>\n",
       "      <td>4</td>\n",
       "      <td>True</td>\n",
       "    </tr>\n",
       "    <tr>\n",
       "      <th>457</th>\n",
       "      <td>500.0</td>\n",
       "      <td>Ut</td>\n",
       "      <td>0</td>\n",
       "      <td>0</td>\n",
       "      <td>DDZ</td>\n",
       "      <td>4.0</td>\n",
       "      <td>1.0</td>\n",
       "      <td>437.0</td>\n",
       "      <td>2</td>\n",
       "      <td>True</td>\n",
       "    </tr>\n",
       "  </tbody>\n",
       "</table>\n",
       "</div>"
      ],
      "text/plain": [
       "      TRAINSERIE STATION  COMBINE  SPLIT ROLLINGSTOCK_TYPE  NUMBER_CARRIAGES  \\\n",
       "936        600.0      Ut        0      0               DDZ               4.0   \n",
       "1632      1600.0      Es        0      0               DDZ               4.0   \n",
       "2048      3900.0     Hrl        0      0              VIRM               4.0   \n",
       "9944      2400.0     Ddr        0      0              VIRM               6.0   \n",
       "457        500.0      Ut        0      0               DDZ               4.0   \n",
       "\n",
       "      DRIVER_CHANGE  NEEDED_REALIZED_TURNOVER_TIME  DAY_IN_WEEK  DALUREN  \n",
       "936             1.0                          509.0            4     True  \n",
       "1632            1.0                         1977.0            0     True  \n",
       "2048            1.0                          448.0            0     True  \n",
       "9944            1.0                          512.0            4     True  \n",
       "457             1.0                          437.0            2     True  "
      ]
     },
     "execution_count": 10,
     "metadata": {},
     "output_type": "execute_result"
    }
   ],
   "source": [
    "def single_decision_result(df, numeric_features, nominal_features):\n",
    "  this_df = df.copy()\n",
    "\n",
    "  # all_features = nominal_features + numeric_features\n",
    "  target_feature = \"DIFF_TURNOVER_TIME_CAT\"\n",
    "\n",
    "  # # # split into X-feature and Y-target datasets\n",
    "  # x = this_df[all_features]\n",
    "  # y = this_df[target_feature]\n",
    "\n",
    "  temp_nominal_data = this_df[nominal_features].apply(LabelEncoder().fit_transform)\n",
    "  temp_nominal_data.columns = nominal_features\n",
    "\n",
    "  temp_numeric_data = this_df[numeric_features]\n",
    "  temp_numeric_data.columns = numeric_features\n",
    "\n",
    "\n",
    "  temp_final = pd.concat([temp_nominal_data, temp_numeric_data], axis=1, ignore_index=True)\n",
    "  use_features = (nominal_features + numeric_features)\n",
    "  temp_final.columns = use_features\n",
    "\n",
    "  forest_model = DecisionTreeClassifier()\n",
    "\n",
    "  # split into X-feature and Y-target datasets\n",
    "  x = temp_final[use_features]\n",
    "  y = this_df[target_feature]\n",
    "\n",
    "\n",
    "  # split train test data\n",
    "  x_train, x_test, y_train, y_test = train_test_split(x, y, test_size= 0.2)\n",
    "  # 80% train, 20% test is generally recommended\n",
    "\n",
    "  forest_model.fit(x_train, y_train)\n",
    "\n",
    "  # make predictions on the test set\n",
    "  y_pred_best_param_forest_classifier = forest_model.predict(x_test)\n",
    "\n",
    "  # evaluate the model\n",
    "  classification_best_param_forest_classifier = classification_report(y_test, y_pred_best_param_forest_classifier)\n",
    "  print(f\"Classification Report:\\n {classification_best_param_forest_classifier}\")\n",
    "\n",
    "  # Model Accuracy: how often is the classifier correct?\n",
    "  accuracy_best_param_forest_classifier = accuracy_score(y_test, y_pred_best_param_forest_classifier)\n",
    "  # Model Precision: what percentage of positive tuples are labeled as such?\n",
    "  precision_best_param_forest_classifier = precision_score(y_test, y_pred_best_param_forest_classifier, average='weighted')\n",
    "  # Model Recall: what percentage of positive tuples are labelled as such?\n",
    "  recall_best_param_forest_classifier = recall_score(y_test, y_pred_best_param_forest_classifier, average='weighted')\n",
    "  # Model f1: \n",
    "  f1_best_param_forest_classifier = f1_score(y_test, y_pred_best_param_forest_classifier, average='weighted')\n",
    "\n",
    "  # printout\n",
    "  print(f\"\"\"Results rbf SVC:\n",
    "  Accuracy: {accuracy_best_param_forest_classifier}\n",
    "  Precision: {precision_best_param_forest_classifier}\n",
    "  Recall: {recall_best_param_forest_classifier}\n",
    "  F1 score: {f1_best_param_forest_classifier}\"\"\")\n",
    "\n",
    "  # Model confusion matrix: \n",
    "  confmat_best_param_forest_classifier = confusion_matrix(y_test, y_pred_best_param_forest_classifier, labels = ['too early', 'perfect', 'too late'], normalize='pred')\n",
    "  # normalize over predicted conditions calculates the part per class/ column, so if we sum over the columns we get 1. So this shows best for the model how it performs per class\n",
    "  cm_display_best_param_forest_classifier = ConfusionMatrixDisplay(confmat_best_param_forest_classifier, display_labels=['too early', 'perfect', 'too late'])\n",
    "\n",
    "  cm_display_best_param_forest_classifier.plot()\n",
    "  plt.show()"
   ]
  },
  {
   "cell_type": "markdown",
   "metadata": {},
   "source": [
    "## Dummy Classifiers"
   ]
  },
  {
   "cell_type": "markdown",
   "metadata": {},
   "source": [
    "### single tree classifier"
   ]
  },
  {
   "cell_type": "code",
   "execution_count": 5,
   "metadata": {},
   "outputs": [
    {
     "name": "stdout",
     "output_type": "stream",
     "text": [
      "Classification Report:\n",
      "               precision    recall  f1-score   support\n",
      "\n",
      "     perfect       0.79      0.90      0.84     36752\n",
      "   too early       0.26      0.14      0.19      3927\n",
      "    too late       0.27      0.14      0.19      6677\n",
      "\n",
      "    accuracy                           0.73     47356\n",
      "   macro avg       0.44      0.40      0.41     47356\n",
      "weighted avg       0.68      0.73      0.70     47356\n",
      "\n",
      "Results rbf SVC:\n",
      "    Accuracy: 0.7302981670749219\n",
      "    Precision: 0.6756643764752586\n",
      "    Recall: 0.7302981670749219\n",
      "    F1 score: 0.6960794915998646\n"
     ]
    },
    {
     "data": {
      "image/png": "[encoded data removed]",
      "text/plain": [
       "<Figure size 640x480 with 2 Axes>"
      ]
     },
     "metadata": {},
     "output_type": "display_data"
    },
    {
     "name": "stdout",
     "output_type": "stream",
     "text": [
      "Classification Report:\n",
      "               precision    recall  f1-score   support\n",
      "\n",
      "     perfect       0.79      0.91      0.85     19807\n",
      "   too early       0.21      0.11      0.15      1864\n",
      "    too late       0.45      0.24      0.32      4343\n",
      "\n",
      "    accuracy                           0.74     26014\n",
      "   macro avg       0.48      0.42      0.44     26014\n",
      "weighted avg       0.69      0.74      0.71     26014\n",
      "\n",
      "Results rbf SVC:\n",
      "    Accuracy: 0.7383332051972015\n",
      "    Precision: 0.6926053289243389\n",
      "    Recall: 0.7383332051972015\n",
      "    F1 score: 0.7065988262252325\n"
     ]
    },
    {
     "data": {
      "image/png": "[encoded data removed]",
      "text/plain": [
       "<Figure size 640x480 with 2 Axes>"
      ]
     },
     "metadata": {},
     "output_type": "display_data"
    },
    {
     "name": "stdout",
     "output_type": "stream",
     "text": [
      "Classification Report:\n",
      "               precision    recall  f1-score   support\n",
      "\n",
      "     perfect       0.82      0.91      0.86     14665\n",
      "   too early       0.33      0.20      0.25      1752\n",
      "    too late       0.35      0.20      0.26      2078\n",
      "\n",
      "    accuracy                           0.76     18495\n",
      "   macro avg       0.50      0.44      0.46     18495\n",
      "weighted avg       0.72      0.76      0.74     18495\n",
      "\n",
      "Results rbf SVC:\n",
      "    Accuracy: 0.7611246282779129\n",
      "    Precision: 0.7210671468998232\n",
      "    Recall: 0.7611246282779129\n",
      "    F1 score: 0.7358109030211142\n"
     ]
    },
    {
     "data": {
      "image/png": "[encoded data removed]",
      "text/plain": [
       "<Figure size 640x480 with 2 Axes>"
      ]
     },
     "metadata": {},
     "output_type": "display_data"
    },
    {
     "name": "stdout",
     "output_type": "stream",
     "text": [
      "Classification Report:\n",
      "               precision    recall  f1-score   support\n",
      "\n",
      "     perfect       0.80      0.89      0.84      2226\n",
      "   too early       0.28      0.18      0.22       282\n",
      "    too late       0.28      0.16      0.20       340\n",
      "\n",
      "    accuracy                           0.73      2848\n",
      "   macro avg       0.45      0.41      0.42      2848\n",
      "weighted avg       0.68      0.73      0.70      2848\n",
      "\n",
      "Results rbf SVC:\n",
      "    Accuracy: 0.730688202247191\n",
      "    Precision: 0.6844097393707814\n",
      "    Recall: 0.730688202247191\n",
      "    F1 score: 0.7022476372771327\n"
     ]
    },
    {
     "data": {
      "image/png": "[encoded data removed]",
      "text/plain": [
       "<Figure size 640x480 with 2 Axes>"
      ]
     },
     "metadata": {},
     "output_type": "display_data"
    }
   ],
   "source": [
    "single_decision_result(df_complete, final_numeric_features, final_nominal_features)\n",
    "single_decision_result(df_0_900, final_numeric_features, final_nominal_features)\n",
    "single_decision_result(df_900_2000, final_numeric_features, final_nominal_features)\n",
    "single_decision_result(df_2000_2500, final_numeric_features, final_nominal_features)"
   ]
  },
  {
   "cell_type": "markdown",
   "metadata": {},
   "source": [
    "### Most frequent stategy\n",
    "\n",
    "*Most Frequent*: The classifier always predicts the most frequent class label in the training data."
   ]
  },
  {
   "cell_type": "code",
   "execution_count": 18,
   "metadata": {},
   "outputs": [
    {
     "name": "stdout",
     "output_type": "stream",
     "text": [
      "Classification Report:\n",
      "               precision    recall  f1-score   support\n",
      "\n",
      "     perfect       0.78      1.00      0.87      2351\n",
      "   too early       0.00      0.00      0.00       260\n",
      "    too late       0.00      0.00      0.00       413\n",
      "\n",
      "    accuracy                           0.78      3024\n",
      "   macro avg       0.26      0.33      0.29      3024\n",
      "weighted avg       0.60      0.78      0.68      3024\n",
      "\n",
      "Results rbf SVC:\n",
      "  Accuracy: 0.77744708994709\n",
      "  Precision: 0.6044239776671986\n",
      "  Recall: 0.77744708994709\n",
      "  F1 score: 0.6801034822197612\n"
     ]
    },
    {
     "data": {
      "image/png": "[encoded data removed]",
      "text/plain": [
       "<Figure size 432x288 with 2 Axes>"
      ]
     },
     "metadata": {
      "needs_background": "light"
     },
     "output_type": "display_data"
    }
   ],
   "source": [
    "# train the model \n",
    "dummy_most_frequent = Pipeline(\n",
    "  steps=[\n",
    "    (\"preprocessor\", preprocessor),\n",
    "    (\"dummy_most_frequent\", DummyClassifier(\n",
    "      strategy='most_frequent', random_state=42)\n",
    "      ),\n",
    "  ]\n",
    ")\n",
    "\n",
    "dummy_most_frequent.fit(x_train, y_train)\n",
    "\n",
    "# make predictions on the test set\n",
    "y_pred_dummy_most_frequent = dummy_most_frequent.predict(x_test)\n",
    "\n",
    "# evaluate the model\n",
    "classification_dummy_most_frequent = classification_report(y_test, y_pred_dummy_most_frequent)\n",
    "print(f\"Classification Report:\\n {classification_dummy_most_frequent}\")\n",
    "\n",
    "# Model Accuracy: how often is the classifier correct?\n",
    "accuracy_dummy_most_frequent = accuracy_score(y_test, y_pred_dummy_most_frequent)\n",
    "# Model Precision: what percentage of positive tuples are labeled as such?\n",
    "precision_dummy_most_frequent = precision_score(y_test, y_pred_dummy_most_frequent, average='weighted')\n",
    "# Model Recall: what percentage of positive tuples are labelled as such?\n",
    "recall_dummy_most_frequent = recall_score(y_test, y_pred_dummy_most_frequent, average='weighted')\n",
    "# Model f1: \n",
    "f1_dummy_most_frequent = f1_score(y_test, y_pred_dummy_most_frequent, average='weighted')\n",
    "\n",
    "# printout\n",
    "print(f\"\"\"Results rbf SVC:\n",
    "  Accuracy: {accuracy_dummy_most_frequent}\n",
    "  Precision: {precision_dummy_most_frequent}\n",
    "  Recall: {recall_dummy_most_frequent}\n",
    "  F1 score: {f1_dummy_most_frequent}\"\"\")\n",
    "\n",
    "# Model confusion matrix: \n",
    "confmat_dummy_most_frequent = confusion_matrix(y_test, y_pred_dummy_most_frequent, labels = ['too early', 'perfect', 'too late'], normalize='pred')\n",
    "# normalize over predicted conditions calculates the part per class/ column, so if we sum over the columns we get 1. So this shows best for the model how it performs per class\n",
    "cm_display_dummy_most_frequent = ConfusionMatrixDisplay(confmat_dummy_most_frequent, display_labels=['too early', 'perfect', 'too late'])\n",
    "\n",
    "cm_display_dummy_most_frequent.plot()\n",
    "plt.show()"
   ]
  },
  {
   "cell_type": "markdown",
   "metadata": {},
   "source": [
    "### Stratified strategy\n",
    "\n",
    "*Stratified*: It generates predictions by respecting the class distribution of the training data. It is different from the “most frequent” strategy as it instead associates a probability with each data point of being the most frequent class label."
   ]
  },
  {
   "cell_type": "code",
   "execution_count": 19,
   "metadata": {},
   "outputs": [
    {
     "name": "stdout",
     "output_type": "stream",
     "text": [
      "Classification Report:\n",
      "               precision    recall  f1-score   support\n",
      "\n",
      "     perfect       0.78      0.79      0.79      2351\n",
      "   too early       0.10      0.10      0.10       260\n",
      "    too late       0.14      0.13      0.13       413\n",
      "\n",
      "    accuracy                           0.64      3024\n",
      "   macro avg       0.34      0.34      0.34      3024\n",
      "weighted avg       0.64      0.64      0.64      3024\n",
      "\n",
      "Results rbf SVC:\n",
      "  Accuracy: 0.6415343915343915\n",
      "  Precision: 0.6368398277755518\n",
      "  Recall: 0.6415343915343915\n",
      "  F1 score: 0.6391600920273971\n"
     ]
    },
    {
     "data": {
      "image/png": "[encoded data removed]",
      "text/plain": [
       "<Figure size 432x288 with 2 Axes>"
      ]
     },
     "metadata": {
      "needs_background": "light"
     },
     "output_type": "display_data"
    }
   ],
   "source": [
    "# train the model \n",
    "dummy_stratified = Pipeline(\n",
    "  steps=[\n",
    "    (\"preprocessor\", preprocessor),\n",
    "    (\"dummy_stratified\", DummyClassifier(\n",
    "      strategy='stratified', random_state=42)\n",
    "      ),\n",
    "  ]\n",
    ")\n",
    "\n",
    "dummy_stratified.fit(x_train, y_train)\n",
    "\n",
    "# make predictions on the test set\n",
    "y_pred_dummy_stratified = dummy_stratified.predict(x_test)\n",
    "\n",
    "# evaluate the model\n",
    "classification_dummy_stratified = classification_report(y_test, y_pred_dummy_stratified)\n",
    "print(f\"Classification Report:\\n {classification_dummy_stratified}\")\n",
    "\n",
    "# Model Accuracy: how often is the classifier correct?\n",
    "accuracy_dummy_stratified = accuracy_score(y_test, y_pred_dummy_stratified)\n",
    "# Model Precision: what percentage of positive tuples are labeled as such?\n",
    "precision_dummy_stratified = precision_score(y_test, y_pred_dummy_stratified, average='weighted')\n",
    "# Model Recall: what percentage of positive tuples are labelled as such?\n",
    "recall_dummy_stratified = recall_score(y_test, y_pred_dummy_stratified, average='weighted')\n",
    "# Model f1: \n",
    "f1_dummy_stratified = f1_score(y_test, y_pred_dummy_stratified, average='weighted')\n",
    "\n",
    "# printout\n",
    "print(f\"\"\"Results rbf SVC:\n",
    "  Accuracy: {accuracy_dummy_stratified}\n",
    "  Precision: {precision_dummy_stratified}\n",
    "  Recall: {recall_dummy_stratified}\n",
    "  F1 score: {f1_dummy_stratified}\"\"\")\n",
    "\n",
    "# Model confusion matrix: \n",
    "confmat_dummy_stratified = confusion_matrix(y_test, y_pred_dummy_stratified, labels = ['too early', 'perfect', 'too late'], normalize='pred')\n",
    "# normalize over predicted conditions calculates the part per class/ column, so if we sum over the columns we get 1. So this shows best for the model how it performs per class\n",
    "cm_display_dummy_stratified = ConfusionMatrixDisplay(confmat_dummy_stratified, display_labels=['too early', 'perfect', 'too late'])\n",
    "\n",
    "cm_display_dummy_stratified.plot()\n",
    "plt.show()"
   ]
  },
  {
   "cell_type": "markdown",
   "metadata": {},
   "source": [
    "### Uniform stategy\n",
    "\n",
    "*Uniform*: It generates predictions uniformly at random."
   ]
  },
  {
   "cell_type": "code",
   "execution_count": 20,
   "metadata": {},
   "outputs": [
    {
     "name": "stdout",
     "output_type": "stream",
     "text": [
      "Classification Report:\n",
      "               precision    recall  f1-score   support\n",
      "\n",
      "     perfect       0.77      0.34      0.48      2351\n",
      "   too early       0.09      0.33      0.14       260\n",
      "    too late       0.14      0.32      0.19       413\n",
      "\n",
      "    accuracy                           0.34      3024\n",
      "   macro avg       0.33      0.33      0.27      3024\n",
      "weighted avg       0.63      0.34      0.41      3024\n",
      "\n",
      "Results rbf SVC:\n",
      "  Accuracy: 0.3392857142857143\n",
      "  Precision: 0.6281937029048007\n",
      "  Recall: 0.3392857142857143\n",
      "  F1 score: 0.40787024558582524\n"
     ]
    },
    {
     "data": {
      "image/png": "[encoded data removed]",
      "text/plain": [
       "<Figure size 432x288 with 2 Axes>"
      ]
     },
     "metadata": {
      "needs_background": "light"
     },
     "output_type": "display_data"
    }
   ],
   "source": [
    "# train the model \n",
    "dummy_uniform = Pipeline(\n",
    "  steps=[\n",
    "    (\"preprocessor\", preprocessor),\n",
    "    (\"dummy_uniform\", DummyClassifier(\n",
    "      strategy='uniform', random_state=42)\n",
    "      ),\n",
    "  ]\n",
    ")\n",
    "\n",
    "dummy_uniform.fit(x_train, y_train)\n",
    "\n",
    "# make predictions on the test set\n",
    "y_pred_dummy_uniform = dummy_uniform.predict(x_test)\n",
    "\n",
    "# evaluate the model\n",
    "classification_dummy_uniform = classification_report(y_test, y_pred_dummy_uniform)\n",
    "print(f\"Classification Report:\\n {classification_dummy_uniform}\")\n",
    "\n",
    "# Model Accuracy: how often is the classifier correct?\n",
    "accuracy_dummy_uniform = accuracy_score(y_test, y_pred_dummy_uniform)\n",
    "# Model Precision: what percentage of positive tuples are labeled as such?\n",
    "precision_dummy_uniform = precision_score(y_test, y_pred_dummy_uniform, average='weighted')\n",
    "# Model Recall: what percentage of positive tuples are labelled as such?\n",
    "recall_dummy_uniform = recall_score(y_test, y_pred_dummy_uniform, average='weighted')\n",
    "# Model f1: \n",
    "f1_dummy_uniform = f1_score(y_test, y_pred_dummy_uniform, average='weighted')\n",
    "\n",
    "# printout\n",
    "print(f\"\"\"Results rbf SVC:\n",
    "  Accuracy: {accuracy_dummy_uniform}\n",
    "  Precision: {precision_dummy_uniform}\n",
    "  Recall: {recall_dummy_uniform}\n",
    "  F1 score: {f1_dummy_uniform}\"\"\")\n",
    "\n",
    "# Model confusion matrix: \n",
    "confmat_dummy_uniform = confusion_matrix(y_test, y_pred_dummy_uniform, labels = ['too early', 'perfect', 'too late'], normalize='pred')\n",
    "# normalize over predicted conditions calculates the part per class/ column, so if we sum over the columns we get 1. So this shows best for the model how it performs per class\n",
    "cm_display_dummy_uniform = ConfusionMatrixDisplay(confmat_dummy_uniform, display_labels=['too early', 'perfect', 'too late'])\n",
    "\n",
    "cm_display_dummy_uniform.plot()\n",
    "plt.show()"
   ]
  },
  {
   "cell_type": "markdown",
   "metadata": {},
   "source": [
    "### Constant strategy\n",
    "\n",
    "*Constant*: The classifier always predicts a constant label and is primarily used when classifying non-majority class labels."
   ]
  },
  {
   "cell_type": "markdown",
   "metadata": {},
   "source": [
    "#### Constant = 'too early'"
   ]
  },
  {
   "cell_type": "code",
   "execution_count": 21,
   "metadata": {},
   "outputs": [
    {
     "name": "stdout",
     "output_type": "stream",
     "text": [
      "Classification Report:\n",
      "               precision    recall  f1-score   support\n",
      "\n",
      "     perfect       0.00      0.00      0.00      2351\n",
      "   too early       0.09      1.00      0.16       260\n",
      "    too late       0.00      0.00      0.00       413\n",
      "\n",
      "    accuracy                           0.09      3024\n",
      "   macro avg       0.03      0.33      0.05      3024\n",
      "weighted avg       0.01      0.09      0.01      3024\n",
      "\n",
      "Results rbf SVC:\n",
      "  Accuracy: 0.08597883597883597\n",
      "  Precision: 0.00739236023627558\n",
      "  Recall: 0.08597883597883597\n",
      "  F1 score: 0.013614188401033712\n"
     ]
    },
    {
     "data": {
      "image/png": "[encoded data removed]",
      "text/plain": [
       "<Figure size 432x288 with 2 Axes>"
      ]
     },
     "metadata": {
      "needs_background": "light"
     },
     "output_type": "display_data"
    }
   ],
   "source": [
    "# train the model \n",
    "dummy_constant = Pipeline(\n",
    "  steps=[\n",
    "    (\"preprocessor\", preprocessor),\n",
    "    (\"dummy_constant\", DummyClassifier(\n",
    "      strategy='constant', random_state=42, constant = 'too early')\n",
    "      ),\n",
    "  ]\n",
    ")\n",
    "\n",
    "dummy_constant.fit(x_train, y_train)\n",
    "\n",
    "# make predictions on the test set\n",
    "y_pred_dummy_constant = dummy_constant.predict(x_test)\n",
    "\n",
    "# evaluate the model\n",
    "classification_dummy_constant = classification_report(y_test, y_pred_dummy_constant)\n",
    "print(f\"Classification Report:\\n {classification_dummy_constant}\")\n",
    "\n",
    "# Model Accuracy: how often is the classifier correct?\n",
    "accuracy_dummy_constant = accuracy_score(y_test, y_pred_dummy_constant)\n",
    "# Model Precision: what percentage of positive tuples are labeled as such?\n",
    "precision_dummy_constant = precision_score(y_test, y_pred_dummy_constant, average='weighted')\n",
    "# Model Recall: what percentage of positive tuples are labelled as such?\n",
    "recall_dummy_constant = recall_score(y_test, y_pred_dummy_constant, average='weighted')\n",
    "# Model f1: \n",
    "f1_dummy_constant = f1_score(y_test, y_pred_dummy_constant, average='weighted')\n",
    "\n",
    "# printout\n",
    "print(f\"\"\"Results rbf SVC:\n",
    "  Accuracy: {accuracy_dummy_constant}\n",
    "  Precision: {precision_dummy_constant}\n",
    "  Recall: {recall_dummy_constant}\n",
    "  F1 score: {f1_dummy_constant}\"\"\")\n",
    "\n",
    "# Model confusion matrix: \n",
    "confmat_dummy_constant = confusion_matrix(y_test, y_pred_dummy_constant, labels = ['too early', 'perfect', 'too late'], normalize='pred')\n",
    "# normalize over predicted conditions calculates the part per class/ column, so if we sum over the columns we get 1. So this shows best for the model how it performs per class\n",
    "cm_display_dummy_constant = ConfusionMatrixDisplay(confmat_dummy_constant, display_labels=['too early', 'perfect', 'too late'])\n",
    "\n",
    "cm_display_dummy_constant.plot()\n",
    "plt.show()"
   ]
  },
  {
   "cell_type": "markdown",
   "metadata": {},
   "source": [
    "#### Constant = 'too late'"
   ]
  },
  {
   "cell_type": "code",
   "execution_count": 22,
   "metadata": {},
   "outputs": [
    {
     "name": "stdout",
     "output_type": "stream",
     "text": [
      "Classification Report:\n",
      "               precision    recall  f1-score   support\n",
      "\n",
      "     perfect       0.00      0.00      0.00      2351\n",
      "   too early       0.00      0.00      0.00       260\n",
      "    too late       0.14      1.00      0.24       413\n",
      "\n",
      "    accuracy                           0.14      3024\n",
      "   macro avg       0.05      0.33      0.08      3024\n",
      "weighted avg       0.02      0.14      0.03      3024\n",
      "\n",
      "Results rbf SVC:\n",
      "  Accuracy: 0.13657407407407407\n",
      "  Precision: 0.018652477709190672\n",
      "  Recall: 0.13657407407407407\n",
      "  F1 score: 0.03282228256770009\n"
     ]
    },
    {
     "data": {
      "image/png": "[encoded data removed]",
      "text/plain": [
       "<Figure size 432x288 with 2 Axes>"
      ]
     },
     "metadata": {
      "needs_background": "light"
     },
     "output_type": "display_data"
    }
   ],
   "source": [
    "# train the model \n",
    "dummy_constant = Pipeline(\n",
    "  steps=[\n",
    "    (\"preprocessor\", preprocessor),\n",
    "    (\"dummy_constant\", DummyClassifier(\n",
    "      strategy='constant', random_state=42, constant = 'too late')\n",
    "      ),\n",
    "  ]\n",
    ")\n",
    "\n",
    "dummy_constant.fit(x_train, y_train)\n",
    "\n",
    "# make predictions on the test set\n",
    "y_pred_dummy_constant = dummy_constant.predict(x_test)\n",
    "\n",
    "# evaluate the model\n",
    "classification_dummy_constant = classification_report(y_test, y_pred_dummy_constant)\n",
    "print(f\"Classification Report:\\n {classification_dummy_constant}\")\n",
    "\n",
    "# Model Accuracy: how often is the classifier correct?\n",
    "accuracy_dummy_constant = accuracy_score(y_test, y_pred_dummy_constant)\n",
    "# Model Precision: what percentage of positive tuples are labeled as such?\n",
    "precision_dummy_constant = precision_score(y_test, y_pred_dummy_constant, average='weighted')\n",
    "# Model Recall: what percentage of positive tuples are labelled as such?\n",
    "recall_dummy_constant = recall_score(y_test, y_pred_dummy_constant, average='weighted')\n",
    "# Model f1: \n",
    "f1_dummy_constant = f1_score(y_test, y_pred_dummy_constant, average='weighted')\n",
    "\n",
    "# printout\n",
    "print(f\"\"\"Results rbf SVC:\n",
    "  Accuracy: {accuracy_dummy_constant}\n",
    "  Precision: {precision_dummy_constant}\n",
    "  Recall: {recall_dummy_constant}\n",
    "  F1 score: {f1_dummy_constant}\"\"\")\n",
    "\n",
    "# Model confusion matrix: \n",
    "confmat_dummy_constant = confusion_matrix(y_test, y_pred_dummy_constant, labels = ['too early', 'perfect', 'too late'], normalize='pred')\n",
    "# normalize over predicted conditions calculates the part per class/ column, so if we sum over the columns we get 1. So this shows best for the model how it performs per class\n",
    "cm_display_dummy_constant = ConfusionMatrixDisplay(confmat_dummy_constant, display_labels=['too early', 'perfect', 'too late'])\n",
    "\n",
    "cm_display_dummy_constant.plot()\n",
    "plt.show()"
   ]
  }
 ],
 "metadata": {
  "kernelspec": {
   "display_name": "Python 3",
   "language": "python",
   "name": "python3"
  },
  "language_info": {
   "codemirror_mode": {
    "name": "ipython",
    "version": 3
   },
   "file_extension": ".py",
   "mimetype": "text/x-python",
   "name": "python",
   "nbconvert_exporter": "python",
   "pygments_lexer": "ipython3",
   "version": "3.11.4"
  }
 },
 "nbformat": 4,
 "nbformat_minor": 2
}
